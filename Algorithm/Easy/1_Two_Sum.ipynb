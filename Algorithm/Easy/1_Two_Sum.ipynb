{
 "cells": [
  {
   "cell_type": "markdown",
   "source": [
    "# Question 1. Two Sum\n",
    "Given an array of integers nums and an integer target, return indices of the two numbers such that they add up to target.\n",
    "\n",
    "You may assume that each input would have exactly one solution, and you may not use the same element twice.\n",
    "\n",
    "You can return the answer in any order.\n",
    "\n",
    "## Example:\n",
    "\n",
    "Input: nums = [2,7,11,15], target = 9\n",
    "Output: [0,1]\n",
    "Output: Because nums[0] + nums[1] == 9, we return [0, 1]."
   ],
   "metadata": {}
  },
  {
   "cell_type": "markdown",
   "source": [
    "# Pat's Attempts\n",
    "\n",
    "1. Easy to achieve $O(n^2)$\n",
    "\n",
    "Runtime: 3635 ms, faster than 28.79% of Python3 online submissions for Two Sum.\n",
    "\n",
    "Memory Usage: 14.9 MB, less than 65.67% of Python3 online submissions for Two Sum."
   ],
   "metadata": {}
  },
  {
   "cell_type": "code",
   "execution_count": 48,
   "source": [
    "class Solution:\n",
    "    def twoSum(self, nums, target):\n",
    "        for m in range(len(nums)):\n",
    "            for n in range(m+1, len(nums)):\n",
    "                if nums[m] + nums[n] == target:\n",
    "                    return [m,n]"
   ],
   "outputs": [],
   "metadata": {}
  },
  {
   "cell_type": "markdown",
   "source": [
    "2. Less elegant way to get $O(nlog(n))$\n",
    "\n",
    "Approach: sort the list, find the pair, get their positions by going through the list.\n",
    "\n",
    "Runtime: 103 ms, faster than 45.26% of Python3 online submissions for Two Sum.\n",
    "\n",
    "Memory Usage: 14.8 MB, less than 92.47% of Python3 online submissions for Two Sum."
   ],
   "metadata": {}
  },
  {
   "cell_type": "code",
   "execution_count": 70,
   "source": [
    "class Solution: \n",
    "    def twoSum(self, nums, target):\n",
    "        nums_sorted = sorted(nums)\n",
    "        l, r = 0, len(nums)-1\n",
    "        while l <= r:\n",
    "            if nums_sorted[l] + nums_sorted[r] > target:\n",
    "                r -= 1 \n",
    "            elif nums_sorted[l] + nums_sorted[r] < target:\n",
    "                l += 1\n",
    "            else:\n",
    "                break \n",
    "        \n",
    "        ans = []\n",
    "        i = 0\n",
    "        while i < len(nums):\n",
    "            if nums[i] in [nums_sorted[l], nums_sorted[r]]:\n",
    "                ans.append(i)\n",
    "            i += 1\n",
    "        \n",
    "        return ans\n",
    "\n",
    "        \n"
   ],
   "outputs": [],
   "metadata": {}
  },
  {
   "cell_type": "markdown",
   "source": [
    "3. Failed attempt to achieve $O(nlog(n))$\n",
    "\n",
    "Approach: build a dict, sort keys and return positions stored as values\n",
    "\n",
    "Issue: repetitive inputs for keys"
   ],
   "metadata": {}
  },
  {
   "cell_type": "code",
   "execution_count": 51,
   "source": [
    "class Solution:\n",
    "    def twoSum(self, nums, target):\n",
    "        mydic = {}\n",
    "        pos = 0\n",
    "        for num in nums:\n",
    "            mydic[num] = pos\n",
    "            pos += 1\n",
    "        values = sorted(mydic.keys())\n",
    "\n",
    "        values.sort()\n",
    "        l = 0\n",
    "        r = len(values) - 1\n",
    "        while l <= r:\n",
    "            if values[l] + values[r] > target:\n",
    "                r -= 1\n",
    "            elif values[l] + values[r] < target:\n",
    "                l += 1    \n",
    "            else:\n",
    "                return [mydic[values[l]], mydic[values[r]]]"
   ],
   "outputs": [],
   "metadata": {}
  }
 ],
 "metadata": {
  "orig_nbformat": 4,
  "language_info": {
   "name": "python",
   "version": "3.8.3",
   "mimetype": "text/x-python",
   "codemirror_mode": {
    "name": "ipython",
    "version": 3
   },
   "pygments_lexer": "ipython3",
   "nbconvert_exporter": "python",
   "file_extension": ".py"
  },
  "kernelspec": {
   "name": "python3",
   "display_name": "Python 3.8.3 64-bit"
  },
  "interpreter": {
   "hash": "082e9a3bcad0a290d0001e938aa60b99250c6c2ef33a923c00b70f9826caf4b7"
  }
 },
 "nbformat": 4,
 "nbformat_minor": 2
}