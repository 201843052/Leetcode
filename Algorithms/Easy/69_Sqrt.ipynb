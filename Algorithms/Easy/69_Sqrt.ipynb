{
 "cells": [
  {
   "cell_type": "markdown",
   "id": "64e2c965",
   "metadata": {},
   "source": [
    "# 69. Sqrt(x)\n",
    "Given a non-negative integer x, compute and return the square root of x.\n",
    "\n",
    "Since the return type is an integer, the decimal digits are truncated, and only the integer part of the result is returned.\n",
    "\n",
    "Note: You are not allowed to use any built-in exponent function or operator, such as pow(x, 0.5) or x ** 0.5.\n",
    "\n",
    "# Example:\n",
    "\n",
    "Input: x = 4\n",
    "Output: 2\n",
    "Example 2:\n",
    "\n",
    "Input: x = 8\n",
    "Output: 2\n",
    "Explanation: The square root of 8 is 2.82842..., and since the decimal part is truncated, 2 is returned.\n",
    " \n",
    "\n",
    "# Constraints:\n",
    "\n",
    "0 <= x <= 2^31 - 1"
   ]
  },
  {
   "cell_type": "markdown",
   "id": "e223fd94",
   "metadata": {},
   "source": [
    "# Josiah's Attempt\n",
    "Runtime: 24 ms, faster than 74.87% of Python online submissions for Sqrt(x).\n",
    "Memory Usage: 13.3 MB, less than 89.07% of Python online submissions for Sqrt(x)."
   ]
  },
  {
   "cell_type": "code",
   "execution_count": 1,
   "id": "0381f5fd",
   "metadata": {},
   "outputs": [],
   "source": [
    "class Solution:\n",
    "    def mySqrt(self, x):\n",
    "        low, high = 0, x \n",
    "        while low <= high:\n",
    "            mid = (low + high) // 2 \n",
    "            res = mid * mid\n",
    "            if res == x:\n",
    "                return mid \n",
    "            elif res < x:\n",
    "                low = mid + 1 \n",
    "            else: \n",
    "                high = mid - 1 \n",
    "        return low - 1"
   ]
  }
 ],
 "metadata": {
  "kernelspec": {
   "display_name": "Python 3",
   "language": "python",
   "name": "python3"
  },
  "language_info": {
   "codemirror_mode": {
    "name": "ipython",
    "version": 3
   },
   "file_extension": ".py",
   "mimetype": "text/x-python",
   "name": "python",
   "nbconvert_exporter": "python",
   "pygments_lexer": "ipython3",
   "version": "3.8.8"
  }
 },
 "nbformat": 4,
 "nbformat_minor": 5
}
