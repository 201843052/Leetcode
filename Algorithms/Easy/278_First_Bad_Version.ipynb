{
 "cells": [
  {
   "cell_type": "markdown",
   "source": [
    "# Question 278 First Bad Version\n",
    "\n",
    "You are a product manager and currently leading a team to develop a new product. Unfortunately, the latest version of your product fails the quality check. Since each version is developed based on the previous version, all the versions after a bad version are also bad.\n",
    "\n",
    "Suppose you have n versions [1, 2, ..., n] and you want to find out the first bad one, which causes all the following ones to be bad.\n",
    "\n",
    "You are given an API bool isBadVersion(version) which returns whether version is bad. Implement a function to find the first bad version. You should minimize the number of calls to the API.\n",
    "\n",
    " \n",
    "\n",
    "## Example:\n",
    "\n",
    "Input: n = 5, bad = 4\n",
    "Output: 4\n",
    "Explanation:\n",
    "call isBadVersion(3) -> false\n",
    "call isBadVersion(5) -> true\n",
    "call isBadVersion(4) -> true\n",
    "Then 4 is the first bad version."
   ],
   "metadata": {}
  },
  {
   "cell_type": "markdown",
   "source": [
    "# Patricia's Attempts\n",
    "\n",
    "- 题不难但为了corner case和runtime想到头秃\n",
    "\n",
    "Approach: two pointers, find mid-point and limit scope\n",
    "\n",
    "Runtime: 24 ms, faster than 95.23% of Python3 online submissions for First Bad Version.\n",
    "\n",
    "Memory Usage: 14.1 MB, less than 90.57% of Python3 online submissions for First Bad Version. "
   ],
   "metadata": {}
  },
  {
   "cell_type": "code",
   "execution_count": 82,
   "source": [
    "from collections import deque\n",
    "\n",
    "class Solution:\n",
    "\n",
    "    def isBadVersion(self, version, bad=999):\n",
    "        # create isBadVersion for checks\n",
    "        if version >= bad:\n",
    "            return True \n",
    "        return False\n",
    "\n",
    "    def firstBadVersion(self, n):\n",
    "        \"\"\"\n",
    "        :type n: int\n",
    "        :rtype: int\n",
    "        \"\"\"\n",
    "\n",
    "        i = n // 2\n",
    "        l, r = 1, n\n",
    "\n",
    "        while l < r-1:\n",
    "            if self.isBadVersion(i):\n",
    "                if not self.isBadVersion(i-1):\n",
    "                    return i \n",
    "\n",
    "                r = i\n",
    "                i = (l + r)//2\n",
    "                \n",
    "            else:\n",
    "                l = i\n",
    "                i = (l + r)//2\n",
    "        \n",
    "        if self.isBadVersion(l):\n",
    "            return l\n",
    "        return r\n",
    "\n"
   ],
   "outputs": [],
   "metadata": {}
  }
 ],
 "metadata": {
  "orig_nbformat": 4,
  "language_info": {
   "name": "python",
   "version": "3.8.3",
   "mimetype": "text/x-python",
   "codemirror_mode": {
    "name": "ipython",
    "version": 3
   },
   "pygments_lexer": "ipython3",
   "nbconvert_exporter": "python",
   "file_extension": ".py"
  },
  "kernelspec": {
   "name": "python3",
   "display_name": "Python 3.8.3 64-bit"
  },
  "interpreter": {
   "hash": "082e9a3bcad0a290d0001e938aa60b99250c6c2ef33a923c00b70f9826caf4b7"
  }
 },
 "nbformat": 4,
 "nbformat_minor": 2
}