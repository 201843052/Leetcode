{
 "cells": [
  {
   "cell_type": "markdown",
   "id": "835f62e9",
   "metadata": {},
   "source": [
    "# 14. Longest Common Prefix\n",
    "Write a function to find the longest common prefix string amongst an array of strings.\n",
    "\n",
    "If there is no common prefix, return an empty string \"\".\n",
    "\n",
    " \n",
    "## Example:\n",
    "Example 1:\n",
    "\n",
    "Input: strs = [\"flower\",\"flow\",\"flight\"]\n",
    "Output: \"fl\"\n",
    "Example 2:\n",
    "\n",
    "Input: strs = [\"dog\",\"racecar\",\"car\"]\n",
    "Output: \"\"\n",
    "Explanation: There is no common prefix among the input strings.\n",
    " \n",
    "\n",
    "## Constraints:\n",
    "\n",
    "1 <= strs.length <= 200\n",
    "0 <= strs[i].length <= 200\n",
    "strs[i] consists of only lower-case English letters."
   ]
  },
  {
   "cell_type": "markdown",
   "id": "6074c47f",
   "metadata": {},
   "source": [
    "# Josiah's Attempt\n",
    "Runtime: 20 ms, faster than 83.23% of Python online submissions for Longest Common Prefix.\n",
    "\n",
    "Memory Usage: 13.9 MB, less than 11.69% of Python online submissions for Longest Common Prefix.\n",
    "\n",
    "Checking match element-wise"
   ]
  },
  {
   "cell_type": "code",
   "execution_count": 65,
   "id": "e565b39d",
   "metadata": {},
   "outputs": [],
   "source": [
    "def longestCommonPrefix(strs):\n",
    "    \"\"\"\n",
    "    :type strs: List[str]\n",
    "    :rtype: str\n",
    "    \"\"\"\n",
    "    matched_index = 0\n",
    "    length_word = [len(x) for x in  strs]\n",
    "    lower_bound = min(length_word)\n",
    "\n",
    "    for j in range(lower_bound):\n",
    "        for i in range(len(strs)):\n",
    "            try:\n",
    "                if strs[i][:j+1] == strs[i+1][:j+1]:\n",
    "                    pass #words i and i+1 have common j+1 prefix\n",
    "                else:\n",
    "                    break #words i and i+1 does not have common j+1 prefix\n",
    "            except:\n",
    "                matched_index = j+1 #all words have common j+1 prefix\n",
    "    \n",
    "    return strs[0][:matched_index]"
   ]
  }
 ],
 "metadata": {
  "kernelspec": {
   "display_name": "Python 3",
   "language": "python",
   "name": "python3"
  },
  "language_info": {
   "codemirror_mode": {
    "name": "ipython",
    "version": 3
   },
   "file_extension": ".py",
   "mimetype": "text/x-python",
   "name": "python",
   "nbconvert_exporter": "python",
   "pygments_lexer": "ipython3",
   "version": "3.8.8"
  }
 },
 "nbformat": 4,
 "nbformat_minor": 5
}
