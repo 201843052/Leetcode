{
 "cells": [
  {
   "cell_type": "markdown",
   "source": [
    "# Question 35 Search Insert Position\n",
    "\n",
    "Given a sorted array of distinct integers and a target value, return the index if the target is found. If not, return the index where it would be if it were inserted in order.\n",
    "\n",
    "You must write an algorithm with O(log n) runtime complexity.\n",
    "\n",
    "\n",
    "## Example:\n",
    "\n",
    "Input: nums = [1,3,5,6], target = 5\n",
    "\n",
    "Output: 2"
   ],
   "metadata": {}
  },
  {
   "cell_type": "markdown",
   "source": [
    "# Patricia's Attempts\n",
    "\n",
    "- my own implementation of  binary search\n",
    "\n",
    "Runtime: 44 ms, faster than 92.78% of Python3 online submissions for Search Insert Position.\n",
    "\n",
    "Memory Usage: 15.1 MB, less than 54.60% of Python3 online submissions for Search Insert Position.\n"
   ],
   "metadata": {}
  },
  {
   "cell_type": "code",
   "execution_count": 3,
   "source": [
    "class Solution:\n",
    "    def searchInsert(self, nums, target):\n",
    "        l, r = 0, len(nums)-1\n",
    "        i = len(nums)//2\n",
    "\n",
    "        if nums[l] >= target:\n",
    "            return l\n",
    "        elif nums[r] < target:\n",
    "            return r + 1\n",
    "\n",
    "        while l < r - 1:\n",
    "            if nums[i] < target:\n",
    "                l = i\n",
    "                i = (l+r) // 2\n",
    "            elif nums[i] > target:\n",
    "                r = i\n",
    "                i = (l+r) // 2\n",
    "            else:\n",
    "                return i \n",
    "        \n",
    "        return l + 1\n",
    "        "
   ],
   "outputs": [],
   "metadata": {}
  },
  {
   "cell_type": "code",
   "execution_count": 2,
   "source": [
    "sol = Solution()\n",
    "nums = [1,3,5,6]\n",
    "target = 5\n",
    "sol.searchInsert(nums,target)"
   ],
   "outputs": [
    {
     "output_type": "execute_result",
     "data": {
      "text/plain": [
       "2"
      ]
     },
     "metadata": {},
     "execution_count": 2
    }
   ],
   "metadata": {}
  }
 ],
 "metadata": {
  "orig_nbformat": 4,
  "language_info": {
   "name": "python",
   "version": "3.8.3",
   "mimetype": "text/x-python",
   "codemirror_mode": {
    "name": "ipython",
    "version": 3
   },
   "pygments_lexer": "ipython3",
   "nbconvert_exporter": "python",
   "file_extension": ".py"
  },
  "kernelspec": {
   "name": "python3",
   "display_name": "Python 3.8.3 64-bit"
  },
  "interpreter": {
   "hash": "082e9a3bcad0a290d0001e938aa60b99250c6c2ef33a923c00b70f9826caf4b7"
  }
 },
 "nbformat": 4,
 "nbformat_minor": 2
}