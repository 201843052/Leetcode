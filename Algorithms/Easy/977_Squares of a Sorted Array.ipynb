{
 "cells": [
  {
   "cell_type": "markdown",
   "source": [
    "# Question 977 Squares of a Sorted Array\n",
    "\n",
    "Given an integer array nums sorted in non-decreasing order, return an array of the squares of each number sorted in non-decreasing order.\n",
    "\n",
    "## Example:\n",
    "\n",
    "Input: nums = [-4,-1,0,3,10]\n",
    "\n",
    "Output: [0,1,9,16,100]\n",
    "\n",
    "Explanation: After squaring, the array becomes [16,1,0,9,100].\n",
    "After sorting, it becomes [0,1,9,16,100]."
   ],
   "metadata": {}
  },
  {
   "cell_type": "markdown",
   "source": [
    "# Patricia's Attempts\n",
    "\n",
    "- O(n)\n",
    "\n",
    "Approach: two pointers, find mid-point and limit scope\n",
    "\n",
    "Runtime: 365 ms, faster than 18.33% of Python3 online submissions for Squares of a Sorted Array.\n",
    "\n",
    "Memory Usage: 16.1 MB, less than 74.00% of Python3 online submissions for Squares of a Sorted Array.\n",
    "\n",
    "*O(n)比O(nlog(n))还慢？？？*"
   ],
   "metadata": {}
  },
  {
   "cell_type": "code",
   "execution_count": 60,
   "source": [
    "class Solution:\n",
    "    def sortedSquares(self, nums):\n",
    "\n",
    "        ans = []\n",
    "        n = 0\n",
    "        p = len(nums)-1\n",
    "\n",
    "        while n <= p: # at most n iterations\n",
    "            neg = nums[n] ** 2\n",
    "            pos = nums[p] ** 2\n",
    "            if neg < pos:\n",
    "                ans.append(pos)\n",
    "                p -= 1\n",
    "            else:\n",
    "                ans.append(neg)\n",
    "                n += 1\n",
    "\n",
    "        ans.reverse() # O(n)\n",
    "\n",
    "        return ans"
   ],
   "outputs": [],
   "metadata": {}
  },
  {
   "cell_type": "markdown",
   "source": [
    "- $O(nlog(n))$\n",
    "\n",
    "Runtime: 224 ms, faster than 77.27% of Python3 online submissions for Squares of a Sorted Array.\n",
    "\n",
    "Memory Usage: 15.9 MB, less than 84.86% of Python3 online submissions for Squares of a Sorted Array.\n",
    "\n",
    "*TimSort achieves O(n) in best case*"
   ],
   "metadata": {}
  },
  {
   "cell_type": "code",
   "execution_count": null,
   "source": [
    "class Solution:\n",
    "    def sortedSquares(self, nums):\n",
    "        for i in range(len(nums)):\n",
    "            nums[i] = nums[i] ** 2\n",
    "        return sorted(nums) # O(nlogn)"
   ],
   "outputs": [],
   "metadata": {}
  }
 ],
 "metadata": {
  "orig_nbformat": 4,
  "language_info": {
   "name": "python",
   "version": "3.8.3",
   "mimetype": "text/x-python",
   "codemirror_mode": {
    "name": "ipython",
    "version": 3
   },
   "pygments_lexer": "ipython3",
   "nbconvert_exporter": "python",
   "file_extension": ".py"
  },
  "kernelspec": {
   "name": "python3",
   "display_name": "Python 3.8.3 64-bit"
  },
  "interpreter": {
   "hash": "082e9a3bcad0a290d0001e938aa60b99250c6c2ef33a923c00b70f9826caf4b7"
  }
 },
 "nbformat": 4,
 "nbformat_minor": 2
}