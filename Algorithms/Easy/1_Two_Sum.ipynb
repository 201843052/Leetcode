{
 "cells": [
  {
   "cell_type": "markdown",
   "metadata": {},
   "source": [
    "# Question 1. Two Sum\n",
    "Given an array of integers nums and an integer target, return indices of the two numbers such that they add up to target.\n",
    "\n",
    "You may assume that each input would have exactly one solution, and you may not use the same element twice.\n",
    "\n",
    "You can return the answer in any order.\n",
    "\n",
    "## Example:\n",
    "\n",
    "Input: nums = [2,7,11,15], target = 9\n",
    "Output: [0,1]\n",
    "Output: Because nums[0] + nums[1] == 9, we return [0, 1]."
   ]
  },
  {
   "cell_type": "markdown",
   "metadata": {},
   "source": [
    "# Josiah's Attempts"
   ]
  },
  {
   "cell_type": "code",
   "execution_count": null,
   "metadata": {},
   "outputs": [],
   "source": [
    "def twoSum(nums, target):\n",
    "    \"\"\"\n",
    "    :type nums: List[int]\n",
    "    :type target: int\n",
    "    :rtype: List[int]\n",
    "    \"\"\"\n",
    "    output = []\n",
    "    for i in range(len(nums)):\n",
    "        for j in range(len(nums)):\n",
    "            if i == j:\n",
    "                pass\n",
    "            elif nums[i]+nums[j] == target:\n",
    "                output.append(i)\n",
    "                output.append(j)\n",
    "                break\n",
    "            else:\n",
    "                continue\n",
    "    return output[0:2]"
   ]
  },
  {
   "cell_type": "markdown",
   "metadata": {},
   "source": [
    "# Pat's Attempts\n",
    "\n",
    "+ Easy to achieve $O(n^2)$\n",
    "\n",
    "Runtime: 3635 ms, faster than 28.79% of Python3 online submissions for Two Sum.\n",
    "\n",
    "Memory Usage: 14.9 MB, less than 65.67% of Python3 online submissions for Two Sum."
   ]
  },
  {
   "cell_type": "code",
   "execution_count": 1,
   "metadata": {},
   "outputs": [],
   "source": [
    "class Solution:\n",
    "    def twoSum(self, nums, target):\n",
    "        for m in range(len(nums)):\n",
    "            for n in range(m+1, len(nums)):\n",
    "                if nums[m] + nums[n] == target:\n",
    "                    return [m,n]"
   ]
  },
  {
   "cell_type": "markdown",
   "metadata": {},
   "source": [
    "+ Less elegant way to get $O(nlog(n))$\n",
    "\n",
    "Approach: sort the list, find the pair, get their positions by going through the list.\n",
    "\n",
    "Runtime: 103 ms, faster than 45.26% of Python3 online submissions for Two Sum.\n",
    "\n",
    "Memory Usage: 14.8 MB, less than 92.47% of Python3 online submissions for Two Sum."
   ]
  },
  {
   "cell_type": "code",
   "execution_count": 70,
   "metadata": {},
   "outputs": [],
   "source": [
    "class Solution: \n",
    "    def twoSum(self, nums, target):\n",
    "        nums_sorted = sorted(nums)\n",
    "        l, r = 0, len(nums)-1\n",
    "        while l <= r:\n",
    "            if nums_sorted[l] + nums_sorted[r] > target:\n",
    "                r -= 1 \n",
    "            elif nums_sorted[l] + nums_sorted[r] < target:\n",
    "                l += 1\n",
    "            else:\n",
    "                break \n",
    "        \n",
    "        ans = []\n",
    "        i = 0\n",
    "        while i < len(nums):\n",
    "            if nums[i] in [nums_sorted[l], nums_sorted[r]]:\n",
    "                ans.append(i)\n",
    "            i += 1\n",
    "        \n",
    "        return ans"
   ]
  },
  {
   "cell_type": "markdown",
   "metadata": {},
   "source": [
    "+ Failed attempt to achieve $O(nlog(n))$\n",
    "\n",
    "Approach: build a dict, sort keys and return positions stored as values\n",
    "\n",
    "Issue: repetitive inputs for keys"
   ]
  },
  {
   "cell_type": "code",
   "execution_count": 51,
   "metadata": {},
   "outputs": [],
   "source": [
    "class Solution:\n",
    "    def twoSum(self, nums, target):\n",
    "        mydic = {}\n",
    "        pos = 0\n",
    "        for num in nums:\n",
    "            mydic[num] = pos\n",
    "            pos += 1\n",
    "        values = sorted(mydic.keys())\n",
    "\n",
    "        values.sort()\n",
    "        l = 0\n",
    "        r = len(values) - 1\n",
    "        while l <= r:\n",
    "            if values[l] + values[r] > target:\n",
    "                r -= 1\n",
    "            elif values[l] + values[r] < target:\n",
    "                l += 1    \n",
    "            else:\n",
    "                return [mydic[values[l]], mydic[values[r]]]"
   ]
  }
 ],
 "metadata": {
  "interpreter": {
   "hash": "082e9a3bcad0a290d0001e938aa60b99250c6c2ef33a923c00b70f9826caf4b7"
  },
  "kernelspec": {
   "display_name": "Python 3",
   "language": "python",
   "name": "python3"
  },
  "language_info": {
   "codemirror_mode": {
    "name": "ipython",
    "version": 3
   },
   "file_extension": ".py",
   "mimetype": "text/x-python",
   "name": "python",
   "nbconvert_exporter": "python",
   "pygments_lexer": "ipython3",
   "version": "3.8.8"
  }
 },
 "nbformat": 4,
 "nbformat_minor": 2
}
