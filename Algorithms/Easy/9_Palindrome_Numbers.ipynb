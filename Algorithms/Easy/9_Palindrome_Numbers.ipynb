{
 "cells": [
  {
   "cell_type": "markdown",
   "source": [
    "# Question 9: Palindrome Numbers\n",
    "\n",
    "Given an integer x, return true if x is palindrome integer.\n",
    "\n",
    "An integer is a palindrome when it reads the same backward as forward. For example, 121 is palindrome while 123 is not.\n",
    "\n",
    "\n",
    "## Example 1:\n",
    "\n",
    "Input: x = 121\n",
    "Output: true"
   ],
   "metadata": {}
  },
  {
   "cell_type": "markdown",
   "source": [
    "# Patricia's Attempts\n",
    "\n",
    "- quick but large\n",
    "\n",
    "Approach: int --> str --> list, reverse and compare\n",
    "\n",
    "Runtime: 60 ms, faster than 74.53% of Python3 online submissions for Palindrome Number.\n",
    "\n",
    "Memory Usage: 14.2 MB, less than 76.45% of Python3 online submissions for Palindrome Number."
   ],
   "metadata": {}
  },
  {
   "cell_type": "code",
   "execution_count": 21,
   "source": [
    "class Solution:\n",
    "    def isPalindrome(self, x):\n",
    "        x_list = list(str(x))\n",
    "        x_rev = x_list[::-1]\n",
    "        if x_list == x_rev:\n",
    "            return True\n",
    "        return False\n"
   ],
   "outputs": [],
   "metadata": {}
  },
  {
   "cell_type": "markdown",
   "source": [
    "- slow but small\n",
    "\n",
    "Approach: element by element comparison\n",
    "\n",
    "Runtime: 100 ms, faster than 19.16% of Python3 online submissions for Palindrome Number.\n",
    "\n",
    "Memory Usage: 14.1 MB, less than 92.33% of Python3 online submissions for Palindrome Number."
   ],
   "metadata": {}
  },
  {
   "cell_type": "code",
   "execution_count": 58,
   "source": [
    "class Solution:\n",
    "    def isPalindrome(self, x):\n",
    "        x = str(x)\n",
    "        i, n = 0, len(x)\n",
    "        while i <= n//2 - 1:\n",
    "            if x[i] == x[-(i+1)]:\n",
    "                i += 1\n",
    "            else: \n",
    "                return False\n",
    "        return True\n"
   ],
   "outputs": [],
   "metadata": {}
  },
  {
   "cell_type": "markdown",
   "source": [
    "# Josiah's Attempt"
   ],
   "metadata": {}
  },
  {
   "cell_type": "code",
   "execution_count": null,
   "source": [
    "def isPalindrome(x):\n",
    "    \"\"\"\n",
    "    :type x: int\n",
    "    :rtype: bool\n",
    "    \"\"\"\n",
    "    number_list = [a for a in str(x)]\n",
    "    check_list = []\n",
    "\n",
    "    for i in range(len(number_list)//2):\n",
    "        if number_list[i]==number_list[len(number_list)-(1+i)]:\n",
    "            check_list.append(1)\n",
    "        else:\n",
    "            check_list.append(0)\n",
    "\n",
    "    if sum(check_list) == len(check_list):\n",
    "        return True\n",
    "    else:\n",
    "        return False\n",
    "    \n",
    "x = 1001\n",
    "x.isPalindrome()"
   ],
   "outputs": [],
   "metadata": {}
  }
 ],
 "metadata": {
  "orig_nbformat": 4,
  "language_info": {
   "name": "python",
   "version": "3.8.3",
   "mimetype": "text/x-python",
   "codemirror_mode": {
    "name": "ipython",
    "version": 3
   },
   "pygments_lexer": "ipython3",
   "nbconvert_exporter": "python",
   "file_extension": ".py"
  },
  "kernelspec": {
   "name": "python3",
   "display_name": "Python 3.8.3 64-bit"
  },
  "interpreter": {
   "hash": "082e9a3bcad0a290d0001e938aa60b99250c6c2ef33a923c00b70f9826caf4b7"
  }
 },
 "nbformat": 4,
 "nbformat_minor": 2
}