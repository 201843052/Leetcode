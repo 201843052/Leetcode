{
 "cells": [
  {
   "cell_type": "markdown",
   "source": [
    "# Question 704 Binary Search\n",
    "\n",
    "Given an array of integers nums which is sorted in ascending order, and an integer target, write a function to search target in nums. If target exists, then return its index. Otherwise, return -1.\n",
    "\n",
    "You must write an algorithm with O(log n) runtime complexity.\n",
    "\n",
    "## Example:\n",
    "\n",
    "Input: nums = [-1,0,3,5,9,12], target = 9\n",
    "\n",
    "Output: 4\n",
    "\n",
    "Explanation: 9 exists in nums and its index is 4"
   ],
   "metadata": {}
  },
  {
   "cell_type": "markdown",
   "source": [
    "# Patricia's Attempts\n",
    "\n",
    "- my own implementation of  binary search\n",
    "\n",
    "Approach: two pointers, find mid-point and limit scope\n",
    "\n",
    "Runtime: 236 ms, faster than 73.24% of Python3 online submissions for Binary Search.\n",
    "\n",
    "Memory Usage: 15.6 MB, less than 69.07% of Python3 online submissions for Binary Search."
   ],
   "metadata": {}
  },
  {
   "cell_type": "code",
   "execution_count": 10,
   "source": [
    "class Solution:\n",
    "    def search(self, nums, target):\n",
    "        l, r = 0, len(nums)-1\n",
    "        i = len(nums)//2\n",
    "\n",
    "        while l < r - 1:\n",
    "            if nums[i] < target:\n",
    "                l = i\n",
    "            elif nums[i] > target:\n",
    "                r = i \n",
    "            else:\n",
    "                return i \n",
    "            i = (l + r)//2\n",
    "\n",
    "        if nums[l] == target:\n",
    "            return l \n",
    "        if nums[r] == target:\n",
    "            return r\n",
    "        \n",
    "        return -1"
   ],
   "outputs": [],
   "metadata": {}
  },
  {
   "cell_type": "markdown",
   "source": [
    "- Classic & elegant implementations of binary search"
   ],
   "metadata": {}
  },
  {
   "cell_type": "code",
   "execution_count": null,
   "source": [
    "# mid = l + (r-l)//2\n",
    "class Solution\n",
    "    def search(self, nums: List[int], target: int) -> int:\n",
    "        l, r = 0, len(nums) - 1\n",
    "        while l < r: \n",
    "            mid = l + (r - l) // 2\n",
    "            if nums[mid] < target: l = mid + 1\n",
    "            else: r = mid\n",
    "        return l if nums[l] == target else -1\n",
    "\n",
    "# mid = (l+r)//2: set boundaries to be numbers unexplored\n",
    "class Solution:\n",
    "    def search(self, nums, target):\n",
    "        l, r = 0, len(nums) - 1\n",
    "        while l <= r:\n",
    "            mid = (l + r) // 2\n",
    "            if nums[mid] < target:\n",
    "                l = mid + 1\n",
    "            elif nums[mid] > target:\n",
    "                r = mid - 1\n",
    "            else:\n",
    "                return mid\n",
    "        return -1"
   ],
   "outputs": [],
   "metadata": {}
  },
  {
   "cell_type": "code",
   "execution_count": 11,
   "source": [
    "# test results\n",
    "sol = Solution()\n",
    "nums = [1,2,8]\n",
    "sol.search(nums,8)"
   ],
   "outputs": [
    {
     "output_type": "execute_result",
     "data": {
      "text/plain": [
       "2"
      ]
     },
     "metadata": {},
     "execution_count": 11
    }
   ],
   "metadata": {}
  }
 ],
 "metadata": {
  "orig_nbformat": 4,
  "language_info": {
   "name": "python",
   "version": "3.8.3",
   "mimetype": "text/x-python",
   "codemirror_mode": {
    "name": "ipython",
    "version": 3
   },
   "pygments_lexer": "ipython3",
   "nbconvert_exporter": "python",
   "file_extension": ".py"
  },
  "kernelspec": {
   "name": "python3",
   "display_name": "Python 3.8.3 64-bit"
  },
  "interpreter": {
   "hash": "082e9a3bcad0a290d0001e938aa60b99250c6c2ef33a923c00b70f9826caf4b7"
  }
 },
 "nbformat": 4,
 "nbformat_minor": 2
}