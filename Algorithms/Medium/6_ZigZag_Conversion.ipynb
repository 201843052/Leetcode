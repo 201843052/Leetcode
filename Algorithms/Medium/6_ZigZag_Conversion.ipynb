{
 "cells": [
  {
   "cell_type": "markdown",
   "id": "6d00217f",
   "metadata": {},
   "source": [
    "# 6. ZigZag Conversion\n",
    "The string \"PAYPALISHIRING\" is written in a zigzag pattern on a given number of rows like this: (you may want to display this pattern in a fixed font for better legibility)\n",
    "\n",
    "P A H N\n",
    "\n",
    "APLSIIG\n",
    "\n",
    "Y I R\n",
    "\n",
    "And then read line by line: \"PAHNAPLSIIGYIR\"\n",
    "\n",
    "Write the code that will take a string and make this conversion given a number of rows:\n",
    "\n",
    "string convert(string s, int numRows);\n",
    " \n",
    "# Example:\n",
    "Example 1:\n",
    "\n",
    "Input: s = \"PAYPALISHIRING\", numRows = 3\n",
    "Output: \"PAHNAPLSIIGYIR\"\n",
    "Example 2:\n",
    "\n",
    "Input: s = \"PAYPALISHIRING\", numRows = 4\n",
    "Output: \"PINALSIGYAHRPI\"\n",
    "Explanation:\n",
    "P     I    N\n",
    "A   L S  I G\n",
    "Y A   H R\n",
    "P     I\n",
    "Example 3:\n",
    "\n",
    "Input: s = \"A\", numRows = 1\n",
    "Output: \"A\"\n",
    " \n",
    "\n",
    "# Constraints:\n",
    "\n",
    "1 <= s.length <= 1000\n",
    "s consists of English letters (lower-case and upper-case), ',' and '.'.\n",
    "1 <= numRows <= 1000"
   ]
  },
  {
   "cell_type": "markdown",
   "id": "aedae350",
   "metadata": {},
   "source": [
    "# Josiah's Attempt\n",
    "Runtime: 1140 ms, faster than 6.21% of Python online submissions for ZigZag Conversion. (Lol)\n",
    "\n",
    "Memory Usage: 13.8 MB, less than 32.75% of Python online submissions for ZigZag Conversion."
   ]
  },
  {
   "cell_type": "code",
   "execution_count": 148,
   "id": "737d9104",
   "metadata": {},
   "outputs": [
    {
     "data": {
      "text/plain": [
       "'agbfced'"
      ]
     },
     "execution_count": 148,
     "metadata": {},
     "output_type": "execute_result"
    }
   ],
   "source": [
    "class Solution(object):\n",
    "    def convert(self, s, numRows):\n",
    "        \"\"\"\n",
    "        :type s: str\n",
    "        :type numRows: int\n",
    "        :rtype: str\n",
    "        \"\"\"\n",
    "        if numRows >= len(s) or numRows == 1:\n",
    "        #         print(s)\n",
    "            return s\n",
    "        elif numRows == 2:\n",
    "            word = \"\"\n",
    "            for i in range(numRows):\n",
    "                for j in range(i,len(s),numRows):\n",
    "                    word+=s[j]\n",
    "        #         print(word)\n",
    "            return word\n",
    "\n",
    "        else:\n",
    "            zap_ncol = numRows - 2  # number of columns zap span\n",
    "            zipzap = 2*numRows -2  # number of characters in each zipzap\n",
    "            n_zipzap = len(s)//zipzap  # how many zipzaps\n",
    "            remainder = len(s)%zipzap  # after n_zipzap, how much left\n",
    "            remainder_zip = numRows if remainder>numRows else remainder  # remainder: in zip\n",
    "            remainder_zap = 0 if remainder_zip<numRows else remainder-remainder_zip  # remainder: in zap\n",
    "            ncol_zipzap = (zap_ncol+1)*n_zipzap # decomposed col: in zipzap\n",
    "            ncol_remainder = 1 if remainder_zap==0 else remainder_zap  # decomposed col: in remainder\n",
    "            ncol = ncol_zipzap + ncol_remainder  # total number of columns\n",
    "            arranged = []\n",
    "            for i in range(numRows):\n",
    "                arranged.append([])\n",
    "            t = 0\n",
    "        #         print(ncol_zipzap)\n",
    "            for i in range(ncol+1):\n",
    "                for j in range(numRows):\n",
    "                    if t==len(s):\n",
    "                        break\n",
    "        #                 print(str(i)+\" col\")\n",
    "        #                 print(str(j)+\" row\")\n",
    "                    if i%(zap_ncol+1) ==0:  # in zip\n",
    "                        arranged[j].append(s[t])\n",
    "        #                     print(arranged)\n",
    "                        t+=1\n",
    "                    elif j==(numRows-1-i%(zap_ncol+1)):  # in zap\n",
    "        #                     print(\"row of zap \"+str(numRows-1-i%(zap_ncol+1)))\n",
    "        #                     print(t)\n",
    "                        arranged[j].append(s[t])\n",
    "        #                     print(arranged)\n",
    "                        t+=1\n",
    "\n",
    "\n",
    "            word = \"\"\n",
    "            for i in range(len(arranged)):\n",
    "                for j in arranged[i]:\n",
    "                    word+=j\n",
    "        #         print(word)\n",
    "            return word"
   ]
  },
  {
   "cell_type": "code",
   "execution_count": 151,
   "id": "6b66d531",
   "metadata": {},
   "outputs": [],
   "source": [
    "def convert(s, numRows): # found this elegant solution online, but no clue how it works\n",
    "\tif numRows==1:\n",
    "\t\treturn s\n",
    "\n",
    "\tres = []\n",
    "\tl = len(s) #5\n",
    "\td = (numRows-1)*2 #zipzap count\n",
    "\tpos = 0\n",
    "\twhile pos<numRows:  # 0<3, True, 1<3, 2<3, True\n",
    "\t\ttoggle = (pos!=0 and pos!=numRows-1) # False, True,False \n",
    "\t\tdiff = d if (pos==0 or pos==numRows-1) else d-(pos*2) #4, 4-(1*2)=2, 2\n",
    "\t\tp = pos # 0, 1, 2\n",
    "\n",
    "\t\twhile p<l: #0<5, True, 4<5, True, 1<5, True, 3<5, 2<5\n",
    "\t\t\tres.append(s[p]) # res = ['h','o','e','l']\n",
    "\t\t\tp+=diff  # p+=4, p = 4, p+=4=8, p+=2=3, p+=2=5\n",
    "\t\t\tif toggle:  # False, True\n",
    "\t\t\t\tdiff = d-diff  # diff = 4-2 = 2, diff = 4-2 = 2\n",
    "\t\tpos+=1  # pos+=1=1, pos+=1=2\n",
    "\treturn \"\".join(res)"
   ]
  },
  {
   "cell_type": "code",
   "execution_count": 155,
   "id": "66db7a81",
   "metadata": {},
   "outputs": [
    {
     "data": {
      "text/plain": [
       "'hoell'"
      ]
     },
     "execution_count": 155,
     "metadata": {},
     "output_type": "execute_result"
    }
   ],
   "source": [
    "convert(\"hello\",3)"
   ]
  }
 ],
 "metadata": {
  "kernelspec": {
   "display_name": "Python 3",
   "language": "python",
   "name": "python3"
  },
  "language_info": {
   "codemirror_mode": {
    "name": "ipython",
    "version": 3
   },
   "file_extension": ".py",
   "mimetype": "text/x-python",
   "name": "python",
   "nbconvert_exporter": "python",
   "pygments_lexer": "ipython3",
   "version": "3.8.8"
  }
 },
 "nbformat": 4,
 "nbformat_minor": 5
}
