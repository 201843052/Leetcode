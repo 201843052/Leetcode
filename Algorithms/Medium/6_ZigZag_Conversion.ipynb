{
 "cells": [
  {
   "cell_type": "markdown",
   "id": "2343a1bd",
   "metadata": {},
   "source": [
    "# 6. ZigZag Conversion\n",
    "The string \"PAYPALISHIRING\" is written in a zigzag pattern on a given number of rows like this: (you may want to display this pattern in a fixed font for better legibility)\n",
    "\n",
    "P A H N\n",
    "\n",
    "APLSIIG\n",
    "\n",
    "Y I R\n",
    "\n",
    "And then read line by line: \"PAHNAPLSIIGYIR\"\n",
    "\n",
    "Write the code that will take a string and make this conversion given a number of rows:\n",
    "\n",
    "string convert(string s, int numRows);\n",
    " \n",
    "# Example:\n",
    "Example 1:\n",
    "\n",
    "Input: s = \"PAYPALISHIRING\", numRows = 3\n",
    "Output: \"PAHNAPLSIIGYIR\"\n",
    "Example 2:\n",
    "\n",
    "Input: s = \"PAYPALISHIRING\", numRows = 4\n",
    "Output: \"PINALSIGYAHRPI\"\n",
    "Explanation:\n",
    "P     I    N\n",
    "A   L S  I G\n",
    "Y A   H R\n",
    "P     I\n",
    "Example 3:\n",
    "\n",
    "Input: s = \"A\", numRows = 1\n",
    "Output: \"A\"\n",
    " \n",
    "\n",
    "# Constraints:\n",
    "\n",
    "1 <= s.length <= 1000\n",
    "s consists of English letters (lower-case and upper-case), ',' and '.'.\n",
    "1 <= numRows <= 1000"
   ]
  },
  {
   "cell_type": "markdown",
   "id": "b01d4cf1",
   "metadata": {},
   "source": [
    "# Josiah's Attempt\n",
    "Runtime: 1140 ms, faster than 6.21% of Python online submissions for ZigZag Conversion. (Lol)\n",
    "\n",
    "Memory Usage: 13.8 MB, less than 32.75% of Python online submissions for ZigZag Conversion."
   ]
  },
  {
   "cell_type": "code",
   "execution_count": 148,
   "id": "6d90449d",
   "metadata": {},
   "outputs": [
    {
     "data": {
      "text/plain": [
       "'agbfced'"
      ]
     },
     "execution_count": 148,
     "metadata": {},
     "output_type": "execute_result"
    }
   ],
   "source": [
    "class Solution(object):\n",
    "    def convert(self, s, numRows):\n",
    "        \"\"\"\n",
    "        :type s: str\n",
    "        :type numRows: int\n",
    "        :rtype: str\n",
    "        \"\"\"\n",
    "        if numRows >= len(s) or numRows == 1:\n",
    "        #         print(s)\n",
    "            return s\n",
    "        elif numRows == 2:\n",
    "            word = \"\"\n",
    "            for i in range(numRows):\n",
    "                for j in range(i,len(s),numRows):\n",
    "                    word+=s[j]\n",
    "        #         print(word)\n",
    "            return word\n",
    "\n",
    "        else:\n",
    "            zap_ncol = numRows - 2  # number of columns zap span\n",
    "            zipzap = 2*numRows -2  # number of characters in each zipzap\n",
    "            n_zipzap = len(s)//zipzap  # how many zipzaps\n",
    "            remainder = len(s)%zipzap  # after n_zipzap, how much left\n",
    "            remainder_zip = numRows if remainder>numRows else remainder  # remainder: in zip\n",
    "            remainder_zap = 0 if remainder_zip<numRows else remainder-remainder_zip  # remainder: in zap\n",
    "            ncol_zipzap = (zap_ncol+1)*n_zipzap # decomposed col: in zipzap\n",
    "            ncol_remainder = 1 if remainder_zap==0 else remainder_zap  # decomposed col: in remainder\n",
    "            ncol = ncol_zipzap + ncol_remainder  # total number of columns\n",
    "            arranged = []\n",
    "            for i in range(numRows):\n",
    "                arranged.append([])\n",
    "            t = 0\n",
    "        #         print(ncol_zipzap)\n",
    "            for i in range(ncol+1):\n",
    "                for j in range(numRows):\n",
    "                    if t==len(s):\n",
    "                        break\n",
    "        #                 print(str(i)+\" col\")\n",
    "        #                 print(str(j)+\" row\")\n",
    "                    if i%(zap_ncol+1) ==0:  # in zip\n",
    "                        arranged[j].append(s[t])\n",
    "        #                     print(arranged)\n",
    "                        t+=1\n",
    "                    elif j==(numRows-1-i%(zap_ncol+1)):  # in zap\n",
    "        #                     print(\"row of zap \"+str(numRows-1-i%(zap_ncol+1)))\n",
    "        #                     print(t)\n",
    "                        arranged[j].append(s[t])\n",
    "        #                     print(arranged)\n",
    "                        t+=1\n",
    "\n",
    "\n",
    "            word = \"\"\n",
    "            for i in range(len(arranged)):\n",
    "                for j in arranged[i]:\n",
    "                    word+=j\n",
    "        #         print(word)\n",
    "            return word"
   ]
  },
  {
   "cell_type": "code",
   "execution_count": null,
   "id": "727ce7c8",
   "metadata": {},
   "outputs": [],
   "source": []
  }
 ],
 "metadata": {
  "kernelspec": {
   "display_name": "Python 3",
   "language": "python",
   "name": "python3"
  },
  "language_info": {
   "codemirror_mode": {
    "name": "ipython",
    "version": 3
   },
   "file_extension": ".py",
   "mimetype": "text/x-python",
   "name": "python",
   "nbconvert_exporter": "python",
   "pygments_lexer": "ipython3",
   "version": "3.8.8"
  }
 },
 "nbformat": 4,
 "nbformat_minor": 5
}
