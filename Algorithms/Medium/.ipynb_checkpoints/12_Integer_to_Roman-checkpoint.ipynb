{
 "cells": [
  {
   "cell_type": "markdown",
   "id": "6857a522",
   "metadata": {},
   "source": [
    "# 12. Integer to Roman\n",
    "\n",
    "Roman numerals are represented by seven different symbols: I, V, X, L, C, D and M.\n",
    "\n",
    "Symbol       Value\n",
    "I             1\n",
    "V             5\n",
    "X             10\n",
    "L             50\n",
    "C             100\n",
    "D             500\n",
    "M             1000\n",
    "For example, 2 is written as II in Roman numeral, just two one's added together. 12 is written as XII, which is simply X + II. The number 27 is written as XXVII, which is XX + V + II.\n",
    "\n",
    "Roman numerals are usually written largest to smallest from left to right. However, the numeral for four is not IIII. Instead, the number four is written as IV. Because the one is before the five we subtract it making four. The same principle applies to the number nine, which is written as IX. There are six instances where subtraction is used:\n",
    "\n",
    "I can be placed before V (5) and X (10) to make 4 and 9. \n",
    "X can be placed before L (50) and C (100) to make 40 and 90. \n",
    "C can be placed before D (500) and M (1000) to make 400 and 900.\n",
    "Given an integer, convert it to a roman numeral.\n",
    "\n",
    " \n",
    "# Example:\n",
    "Example 1:\n",
    "Input: num = 3\n",
    "Output: \"III\"\n",
    "\n",
    "Example 2:\n",
    "Input: num = 4\n",
    "Output: \"IV\"\n",
    "\n",
    "Example 3:\n",
    "Input: num = 9\n",
    "Output: \"IX\"\n",
    "\n",
    "Example 4:\n",
    "Input: num = 58\n",
    "Output: \"LVIII\"\n",
    "Explanation: L = 50, V = 5, III = 3.\n",
    "\n",
    "Example 5:\n",
    "Input: num = 1994\n",
    "Output: \"MCMXCIV\"\n",
    "Explanation: M = 1000, CM = 900, XC = 90 and IV = 4.\n",
    " \n",
    "\n",
    "# Constraints:\n",
    "\n",
    "1 <= num <= 3999"
   ]
  },
  {
   "cell_type": "markdown",
   "id": "c783502f",
   "metadata": {},
   "source": [
    "# Josiah's Attempt\n",
    "Runtime: 44 ms, faster than 62.84% of Python online submissions for Integer to Roman.\n",
    "\n",
    "Memory Usage: 13.6 MB, less than 14.18% of Python online submissions for Integer to Roman."
   ]
  },
  {
   "cell_type": "code",
   "execution_count": 127,
   "id": "5e939d4b",
   "metadata": {},
   "outputs": [],
   "source": [
    "class Solution(object):\n",
    "    def intToRoman(self, num):\n",
    "        \"\"\"\n",
    "        :type num: int\n",
    "        :rtype: str\n",
    "        \"\"\"\n",
    "        IntRomanDict = {1: 'I',4: 'IV', 5: 'V', 9: 'IX', 10: 'X', \n",
    "                        40: 'XL', 50: 'L', 90: 'XC', 100: 'C', \n",
    "                        400: 'CD', 500: 'D', 900: 'CM', 1000: 'M'}\n",
    "        if num in IntRomanDict:\n",
    "            return IntRomanDict[num]\n",
    "        num_list = [int(s) for s in str(num)]\n",
    "        for i in range(len(num_list)):\n",
    "            PowOfTen = len(num_list)-1-i\n",
    "            num_list[i] = num_list[i]*(10**PowOfTen)\n",
    "            first_num = int(num_list[i]/(10**PowOfTen))\n",
    "            \n",
    "            if num_list[i] in IntRomanDict:\n",
    "                num_list[i] = IntRomanDict[num_list[i]]\n",
    "            elif first_num<4:\n",
    "                num_list[i] = IntRomanDict[10**PowOfTen]*first_num\n",
    "            else:\n",
    "                num_list[i] = IntRomanDict[5*(10**PowOfTen)]+IntRomanDict[10**PowOfTen]*(first_num-5)\n",
    "        return(\"\".join(num_list))"
   ]
  },
  {
   "cell_type": "code",
   "execution_count": 129,
   "id": "628e160e",
   "metadata": {},
   "outputs": [
    {
     "data": {
      "text/plain": [
       "'LXXX'"
      ]
     },
     "execution_count": 129,
     "metadata": {},
     "output_type": "execute_result"
    }
   ],
   "source": [
    "s = Solution()\n",
    "s.intToRoman(80)"
   ]
  }
 ],
 "metadata": {
  "kernelspec": {
   "display_name": "Python 3",
   "language": "python",
   "name": "python3"
  },
  "language_info": {
   "codemirror_mode": {
    "name": "ipython",
    "version": 3
   },
   "file_extension": ".py",
   "mimetype": "text/x-python",
   "name": "python",
   "nbconvert_exporter": "python",
   "pygments_lexer": "ipython3",
   "version": "3.8.8"
  }
 },
 "nbformat": 4,
 "nbformat_minor": 5
}
